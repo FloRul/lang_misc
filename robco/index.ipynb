{
 "cells": [
  {
   "cell_type": "code",
   "execution_count": 1,
   "metadata": {},
   "outputs": [],
   "source": [
    "from langchain_community.chat_models import ChatOllama\n",
    "from langchain_community.embeddings import OllamaEmbeddings\n",
    "from langchain_aws import ChatBedrock\n",
    "from langfuse.callback import CallbackHandler\n",
    "import asyncio\n",
    "import nest_asyncio\n",
    "\n",
    "nest_asyncio.apply()\n",
    "from dotenv import load_dotenv\n",
    "import os\n",
    "\n",
    "load_dotenv()\n",
    "\n",
    "HAIKU_ID = \"anthropic.claude-3-haiku-20240307-v1:0\"\n",
    "SONNET_ID = \"anthropic.claude-3-sonnet-20240229-v1:0\"\n",
    "\n",
    "llm = ChatOllama(model=\"mistral:v0.3\", temperature=0.2)\n",
    "bedrock_chat = ChatBedrock(\n",
    "    model_id=SONNET_ID,\n",
    "    model_kwargs={\"temperature\": 0.1},\n",
    ")\n",
    "embedding_function = OllamaEmbeddings(model=\"nomic-embed-text\")\n",
    "\n",
    "secret_key = os.getenv(\"SECRET_KEY\")\n",
    "public_key = os.getenv(\"PUBLIC_KEY\")\n",
    "langfuse_handler = CallbackHandler(\n",
    "    secret_key=os.getenv(\"SECRET_KEY\"),\n",
    "    public_key=os.getenv(\"PUBLIC_KEY\"),\n",
    "    host=\"https://us.cloud.langfuse.com\",  # 🇺🇸 US region\n",
    ")"
   ]
  },
  {
   "cell_type": "code",
   "execution_count": 3,
   "metadata": {},
   "outputs": [
    {
     "name": "stdout",
     "output_type": "stream",
     "text": [
      "CKanLoader initialized, found 1453 dataset ids.\n"
     ]
    }
   ],
   "source": [
    "import os\n",
    "import sys\n",
    "\n",
    "nb_dir = os.path.split(os.getcwd())[0]\n",
    "if nb_dir not in sys.path:\n",
    "    sys.path.append(nb_dir)\n",
    "from ingestion.ckan_loader import CKanLoader\n",
    "\n",
    "loader = CKanLoader()"
   ]
  },
  {
   "cell_type": "code",
   "execution_count": null,
   "metadata": {},
   "outputs": [],
   "source": [
    "\n",
    "# from langchain_community.vectorstores import Chroma\n",
    "# db = Chroma.from_documents(\n",
    "#     documents=loader.load(),\n",
    "#     embedding=embedding_function,\n",
    "#     persist_directory=\"./chroma_db\",\n",
    "#     collection_name=\"robco_chroma\"\n",
    "# )"
   ]
  },
  {
   "cell_type": "code",
   "execution_count": 4,
   "metadata": {},
   "outputs": [
    {
     "name": "stdout",
     "output_type": "stream",
     "text": [
      "There are 1454 docs in the collection\n"
     ]
    },
    {
     "data": {
      "text/plain": [
       "'robco_chroma'"
      ]
     },
     "execution_count": 4,
     "metadata": {},
     "output_type": "execute_result"
    }
   ],
   "source": [
    "from langchain_community.vectorstores import Chroma\n",
    "\n",
    "vectorstore = Chroma(\n",
    "    persist_directory=\"./chroma_db\",\n",
    "    embedding_function=embedding_function,\n",
    "    collection_name=\"robco_chroma\"\n",
    ")\n",
    "\n",
    "print(\"There are\", vectorstore._collection.count(), \"docs in the collection\")\n",
    "vectorstore._collection.name"
   ]
  },
  {
   "cell_type": "code",
   "execution_count": 14,
   "metadata": {},
   "outputs": [
    {
     "data": {
      "text/plain": [
       "'D\\'après les documents fournis, je ne trouve pas de jeu de données spécifique sur les bibliothèques. Les jeux de données semblent porter sur des sujets comme l\\'imagerie aérienne, les travaux en cours, les points de rencontre d\\'ambulance, la cartographie forestière et les parcs municipaux avec leurs services. Cependant, il est mentionné pour le jeu de données \"Parcs municipaux avec services - Ville de Shawinigan\" qu\\'il y a un attribut \"service_boitelivre\" qui pourrait indiquer la présence de boîtes à livres dans certains parcs. Mais il n\\'y a pas de données détaillées sur les bibliothèques municipales ou autres types de bibliothèques.'"
      ]
     },
     "execution_count": 14,
     "metadata": {},
     "output_type": "execute_result"
    }
   ],
   "source": [
    "from langchain_core.prompts import PromptTemplate\n",
    "from langchain_core.prompts import ChatPromptTemplate\n",
    "from langchain_core.output_parsers import StrOutputParser\n",
    "from langchain_core.runnables import RunnablePassthrough\n",
    "\n",
    "retriever = vectorstore.as_retriever(\n",
    "    search_type=\"mmr\",\n",
    "    search_kwargs={\n",
    "        \"k\": 5,\n",
    "        \"lambda_mult\": 0.5,\n",
    "    },\n",
    ")\n",
    "\n",
    "def format_docs(docs):\n",
    "    return \"\\n\\n\".join([d.page_content for d in docs])\n",
    "\n",
    "prompt = PromptTemplate.from_template(\"Based on those documents <documents>{documents}</documents> answer the user query <query>{query}</query>\")\n",
    "chain = retriever | prompt | bedrock_chat\n",
    "chain = (\n",
    "    {\"documents\": retriever | format_docs, \"query\": RunnablePassthrough()}\n",
    "    | prompt\n",
    "    | bedrock_chat\n",
    "    | StrOutputParser()\n",
    ")\n",
    "res = chain.invoke(input={\"query\":\"avez vous des jeux de donnés sur les bibliothèques ?\"},config={\"callbacks\": [langfuse_handler]})\n",
    "res"
   ]
  },
  {
   "cell_type": "code",
   "execution_count": null,
   "metadata": {},
   "outputs": [],
   "source": [
    "from langchain.retrievers.self_query.base import SelfQueryRetriever\n",
    "\n",
    "s_retriever = SelfQueryRetriever.from_llm(\n",
    "    llm=bedrock_chat,\n",
    "    vectorstore=vectorstore,\n",
    "    search_type=\"mmr\",\n",
    "    document_contents=loader.document_content_info,\n",
    "    metadata_field_info=loader.metadata_field_info,\n",
    "    search_kwargs={\n",
    "        \"k\": 5,\n",
    "    },\n",
    "    \n",
    ")\n",
    "res = s_retriever.invoke(\n",
    "    \"Avez vous des jeux de donnés avec des ressources pdf ?\",\n",
    "    config={\"callbacks\": [langfuse_handler]},\n",
    ")\n",
    "res"
   ]
  }
 ],
 "metadata": {
  "kernelspec": {
   "display_name": "langchain_env",
   "language": "python",
   "name": "python3"
  },
  "language_info": {
   "codemirror_mode": {
    "name": "ipython",
    "version": 3
   },
   "file_extension": ".py",
   "mimetype": "text/x-python",
   "name": "python",
   "nbconvert_exporter": "python",
   "pygments_lexer": "ipython3",
   "version": "3.12.3"
  }
 },
 "nbformat": 4,
 "nbformat_minor": 2
}
